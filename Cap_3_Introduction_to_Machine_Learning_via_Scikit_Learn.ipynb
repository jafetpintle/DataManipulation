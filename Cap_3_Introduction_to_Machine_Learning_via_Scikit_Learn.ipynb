{
  "nbformat": 4,
  "nbformat_minor": 0,
  "metadata": {
    "colab": {
      "provenance": [],
      "authorship_tag": "ABX9TyMJjNxhTtsXSXiqsuirE5K5",
      "include_colab_link": true
    },
    "kernelspec": {
      "name": "python3",
      "display_name": "Python 3"
    },
    "language_info": {
      "name": "python"
    }
  },
  "cells": [
    {
      "cell_type": "markdown",
      "metadata": {
        "id": "view-in-github",
        "colab_type": "text"
      },
      "source": [
        "<a href=\"https://colab.research.google.com/github/jafetpintle/DataManipulation/blob/main/Cap_3_Introduction_to_Machine_Learning_via_Scikit_Learn.ipynb\" target=\"_parent\"><img src=\"https://colab.research.google.com/assets/colab-badge.svg\" alt=\"Open In Colab\"/></a>"
      ]
    },
    {
      "cell_type": "code",
      "execution_count": null,
      "metadata": {
        "id": "6j-9QaqjS77a"
      },
      "outputs": [],
      "source": []
    },
    {
      "cell_type": "markdown",
      "source": [
        "#Exercise 21: Preparing Data for a Linear Regression Model\n",
        "\n",
        "##Simple Linear Regression\n",
        "Simple linear regression models define the relationship between one feature and the continuous outcome variable using $$y =α + βx $$. This equation is like the slope-intercept from, where \n",
        "* *y* denotes the the predicted value of the dependent variable\n",
        "* α denotes the intercept\n",
        "* β that minimize the absolute diference between predicted y values"
      ],
      "metadata": {
        "id": "88ZivOEWUWi7"
      }
    },
    {
      "cell_type": "markdown",
      "source": [
        "To prepare our data for a simple linear regression model, we will use a random \n",
        "subset of the Weather in Szeged 2006-2016 dataset, which consists of hourly weather \n",
        "measurements from April 1, 2006, to September 9, 2016, in Szeged, Hungary. The \n",
        "adapted data is provided as a .csv file (https://github.com/TrainingByPackt/Data\u0002Science-with-Python/blob/master/Chapter02/weather.csv) and consists of 10,000 \n",
        "observations of 8 variables:\n",
        "* Temperature_c: The temperature in Celsius\n",
        "* Humidity: The proportion of humidity\n",
        "* Wind_Speed_kmh: The wind speed in kilometers per hour\n",
        "* Wind_Bearing_Degrees: The wind direction in degrees clockwise from due north\n",
        "* Visibility_km: The visibility in kilometers\n",
        "* Pressure_millibars: The atmospheric pressure as measured in millibars\n",
        "* Rain: rain = 1, snow = 0\n",
        "* Description: Warm, normal, or cold"
      ],
      "metadata": {
        "id": "B6-TwVcZV3u9"
      }
    },
    {
      "cell_type": "code",
      "source": [
        "#Import weather.csv dataset\n",
        "import pandas as pd \n",
        "data = 'https://github.com/TrainingByPackt/Data-Science-with-Python/blob/master/Chapter03/weather.csv?raw=true'\n",
        "df= pd.read_csv(data, header=0)\n",
        "df.head()"
      ],
      "metadata": {
        "colab": {
          "base_uri": "https://localhost:8080/",
          "height": 206
        },
        "id": "c3IptfSoV95H",
        "outputId": "b4d38a44-c058-4dd5-833e-0a6a5694b094"
      },
      "execution_count": 1,
      "outputs": [
        {
          "output_type": "execute_result",
          "data": {
            "text/plain": [
              "   Temperature_c  Humidity  Wind_Speed_kmh  Wind_Bearing_degrees  \\\n",
              "0      -0.555556      0.92         11.2700                   130   \n",
              "1      21.111111      0.73         20.9300                   330   \n",
              "2      16.600000      0.97          5.9731                   193   \n",
              "3       1.600000      0.82          3.2200                   300   \n",
              "4       2.194444      0.60         10.8836                   116   \n",
              "\n",
              "   Visibility_km  Pressure_millibars  Rain Description  \n",
              "0         8.0500             1021.60     0        Cold  \n",
              "1        16.1000             1017.00     1        Warm  \n",
              "2        14.9086             1013.99     1      Normal  \n",
              "3        16.1000             1031.59     1        Cold  \n",
              "4         9.9820             1020.88     1        Cold  "
            ],
            "text/html": [
              "\n",
              "  <div id=\"df-eceed6a2-375a-4491-bfb3-2e4593a1b0b9\">\n",
              "    <div class=\"colab-df-container\">\n",
              "      <div>\n",
              "<style scoped>\n",
              "    .dataframe tbody tr th:only-of-type {\n",
              "        vertical-align: middle;\n",
              "    }\n",
              "\n",
              "    .dataframe tbody tr th {\n",
              "        vertical-align: top;\n",
              "    }\n",
              "\n",
              "    .dataframe thead th {\n",
              "        text-align: right;\n",
              "    }\n",
              "</style>\n",
              "<table border=\"1\" class=\"dataframe\">\n",
              "  <thead>\n",
              "    <tr style=\"text-align: right;\">\n",
              "      <th></th>\n",
              "      <th>Temperature_c</th>\n",
              "      <th>Humidity</th>\n",
              "      <th>Wind_Speed_kmh</th>\n",
              "      <th>Wind_Bearing_degrees</th>\n",
              "      <th>Visibility_km</th>\n",
              "      <th>Pressure_millibars</th>\n",
              "      <th>Rain</th>\n",
              "      <th>Description</th>\n",
              "    </tr>\n",
              "  </thead>\n",
              "  <tbody>\n",
              "    <tr>\n",
              "      <th>0</th>\n",
              "      <td>-0.555556</td>\n",
              "      <td>0.92</td>\n",
              "      <td>11.2700</td>\n",
              "      <td>130</td>\n",
              "      <td>8.0500</td>\n",
              "      <td>1021.60</td>\n",
              "      <td>0</td>\n",
              "      <td>Cold</td>\n",
              "    </tr>\n",
              "    <tr>\n",
              "      <th>1</th>\n",
              "      <td>21.111111</td>\n",
              "      <td>0.73</td>\n",
              "      <td>20.9300</td>\n",
              "      <td>330</td>\n",
              "      <td>16.1000</td>\n",
              "      <td>1017.00</td>\n",
              "      <td>1</td>\n",
              "      <td>Warm</td>\n",
              "    </tr>\n",
              "    <tr>\n",
              "      <th>2</th>\n",
              "      <td>16.600000</td>\n",
              "      <td>0.97</td>\n",
              "      <td>5.9731</td>\n",
              "      <td>193</td>\n",
              "      <td>14.9086</td>\n",
              "      <td>1013.99</td>\n",
              "      <td>1</td>\n",
              "      <td>Normal</td>\n",
              "    </tr>\n",
              "    <tr>\n",
              "      <th>3</th>\n",
              "      <td>1.600000</td>\n",
              "      <td>0.82</td>\n",
              "      <td>3.2200</td>\n",
              "      <td>300</td>\n",
              "      <td>16.1000</td>\n",
              "      <td>1031.59</td>\n",
              "      <td>1</td>\n",
              "      <td>Cold</td>\n",
              "    </tr>\n",
              "    <tr>\n",
              "      <th>4</th>\n",
              "      <td>2.194444</td>\n",
              "      <td>0.60</td>\n",
              "      <td>10.8836</td>\n",
              "      <td>116</td>\n",
              "      <td>9.9820</td>\n",
              "      <td>1020.88</td>\n",
              "      <td>1</td>\n",
              "      <td>Cold</td>\n",
              "    </tr>\n",
              "  </tbody>\n",
              "</table>\n",
              "</div>\n",
              "      <button class=\"colab-df-convert\" onclick=\"convertToInteractive('df-eceed6a2-375a-4491-bfb3-2e4593a1b0b9')\"\n",
              "              title=\"Convert this dataframe to an interactive table.\"\n",
              "              style=\"display:none;\">\n",
              "        \n",
              "  <svg xmlns=\"http://www.w3.org/2000/svg\" height=\"24px\"viewBox=\"0 0 24 24\"\n",
              "       width=\"24px\">\n",
              "    <path d=\"M0 0h24v24H0V0z\" fill=\"none\"/>\n",
              "    <path d=\"M18.56 5.44l.94 2.06.94-2.06 2.06-.94-2.06-.94-.94-2.06-.94 2.06-2.06.94zm-11 1L8.5 8.5l.94-2.06 2.06-.94-2.06-.94L8.5 2.5l-.94 2.06-2.06.94zm10 10l.94 2.06.94-2.06 2.06-.94-2.06-.94-.94-2.06-.94 2.06-2.06.94z\"/><path d=\"M17.41 7.96l-1.37-1.37c-.4-.4-.92-.59-1.43-.59-.52 0-1.04.2-1.43.59L10.3 9.45l-7.72 7.72c-.78.78-.78 2.05 0 2.83L4 21.41c.39.39.9.59 1.41.59.51 0 1.02-.2 1.41-.59l7.78-7.78 2.81-2.81c.8-.78.8-2.07 0-2.86zM5.41 20L4 18.59l7.72-7.72 1.47 1.35L5.41 20z\"/>\n",
              "  </svg>\n",
              "      </button>\n",
              "      \n",
              "  <style>\n",
              "    .colab-df-container {\n",
              "      display:flex;\n",
              "      flex-wrap:wrap;\n",
              "      gap: 12px;\n",
              "    }\n",
              "\n",
              "    .colab-df-convert {\n",
              "      background-color: #E8F0FE;\n",
              "      border: none;\n",
              "      border-radius: 50%;\n",
              "      cursor: pointer;\n",
              "      display: none;\n",
              "      fill: #1967D2;\n",
              "      height: 32px;\n",
              "      padding: 0 0 0 0;\n",
              "      width: 32px;\n",
              "    }\n",
              "\n",
              "    .colab-df-convert:hover {\n",
              "      background-color: #E2EBFA;\n",
              "      box-shadow: 0px 1px 2px rgba(60, 64, 67, 0.3), 0px 1px 3px 1px rgba(60, 64, 67, 0.15);\n",
              "      fill: #174EA6;\n",
              "    }\n",
              "\n",
              "    [theme=dark] .colab-df-convert {\n",
              "      background-color: #3B4455;\n",
              "      fill: #D2E3FC;\n",
              "    }\n",
              "\n",
              "    [theme=dark] .colab-df-convert:hover {\n",
              "      background-color: #434B5C;\n",
              "      box-shadow: 0px 1px 3px 1px rgba(0, 0, 0, 0.15);\n",
              "      filter: drop-shadow(0px 1px 2px rgba(0, 0, 0, 0.3));\n",
              "      fill: #FFFFFF;\n",
              "    }\n",
              "  </style>\n",
              "\n",
              "      <script>\n",
              "        const buttonEl =\n",
              "          document.querySelector('#df-eceed6a2-375a-4491-bfb3-2e4593a1b0b9 button.colab-df-convert');\n",
              "        buttonEl.style.display =\n",
              "          google.colab.kernel.accessAllowed ? 'block' : 'none';\n",
              "\n",
              "        async function convertToInteractive(key) {\n",
              "          const element = document.querySelector('#df-eceed6a2-375a-4491-bfb3-2e4593a1b0b9');\n",
              "          const dataTable =\n",
              "            await google.colab.kernel.invokeFunction('convertToInteractive',\n",
              "                                                     [key], {});\n",
              "          if (!dataTable) return;\n",
              "\n",
              "          const docLinkHtml = 'Like what you see? Visit the ' +\n",
              "            '<a target=\"_blank\" href=https://colab.research.google.com/notebooks/data_table.ipynb>data table notebook</a>'\n",
              "            + ' to learn more about interactive tables.';\n",
              "          element.innerHTML = '';\n",
              "          dataTable['output_type'] = 'display_data';\n",
              "          await google.colab.output.renderOutput(dataTable, element);\n",
              "          const docLink = document.createElement('div');\n",
              "          docLink.innerHTML = docLinkHtml;\n",
              "          element.appendChild(docLink);\n",
              "        }\n",
              "      </script>\n",
              "    </div>\n",
              "  </div>\n",
              "  "
            ]
          },
          "metadata": {},
          "execution_count": 1
        }
      ]
    },
    {
      "cell_type": "code",
      "source": [
        "#Exploring the dataset\n",
        "df.info()"
      ],
      "metadata": {
        "colab": {
          "base_uri": "https://localhost:8080/"
        },
        "id": "9lB_5XEGXW37",
        "outputId": "f4800f55-ea76-445a-968c-a41083dca9f6"
      },
      "execution_count": 3,
      "outputs": [
        {
          "output_type": "stream",
          "name": "stdout",
          "text": [
            "<class 'pandas.core.frame.DataFrame'>\n",
            "RangeIndex: 10000 entries, 0 to 9999\n",
            "Data columns (total 8 columns):\n",
            " #   Column                Non-Null Count  Dtype  \n",
            "---  ------                --------------  -----  \n",
            " 0   Temperature_c         10000 non-null  float64\n",
            " 1   Humidity              10000 non-null  float64\n",
            " 2   Wind_Speed_kmh        10000 non-null  float64\n",
            " 3   Wind_Bearing_degrees  10000 non-null  int64  \n",
            " 4   Visibility_km         10000 non-null  float64\n",
            " 5   Pressure_millibars    10000 non-null  float64\n",
            " 6   Rain                  10000 non-null  int64  \n",
            " 7   Description           10000 non-null  object \n",
            "dtypes: float64(5), int64(2), object(1)\n",
            "memory usage: 625.1+ KB\n"
          ]
        }
      ]
    },
    {
      "cell_type": "code",
      "source": [
        "#Checking the number of levels in Description column\n",
        "#levels = len(pd.value_counts(df['Description']))\n",
        "levels = len(df['Description'].unique())\n",
        "print('the are {} levels in the description column'.format(levels))"
      ],
      "metadata": {
        "colab": {
          "base_uri": "https://localhost:8080/"
        },
        "id": "KukTCzbNY59p",
        "outputId": "d9c8197e-4196-4f09-d068-58ea16d45dbf"
      },
      "execution_count": 11,
      "outputs": [
        {
          "output_type": "stream",
          "name": "stdout",
          "text": [
            "the are 3 levels in the description column\n"
          ]
        }
      ]
    },
    {
      "cell_type": "code",
      "source": [
        "#To dummy code all multi-class, categorical variables\n",
        "df_dummies = pd.get_dummies(df, drop_first=True)\n",
        "df_dummies.head()"
      ],
      "metadata": {
        "colab": {
          "base_uri": "https://localhost:8080/",
          "height": 206
        },
        "id": "KQUWgL5SZn6s",
        "outputId": "ecffabca-9c6a-4ff5-b830-01561f65a916"
      },
      "execution_count": 22,
      "outputs": [
        {
          "output_type": "execute_result",
          "data": {
            "text/plain": [
              "   Temperature_c  Humidity  Wind_Speed_kmh  Wind_Bearing_degrees  \\\n",
              "0      -0.555556      0.92         11.2700                   130   \n",
              "1      21.111111      0.73         20.9300                   330   \n",
              "2      16.600000      0.97          5.9731                   193   \n",
              "3       1.600000      0.82          3.2200                   300   \n",
              "4       2.194444      0.60         10.8836                   116   \n",
              "\n",
              "   Visibility_km  Pressure_millibars  Rain  Description_Normal  \\\n",
              "0         8.0500             1021.60     0                   0   \n",
              "1        16.1000             1017.00     1                   0   \n",
              "2        14.9086             1013.99     1                   1   \n",
              "3        16.1000             1031.59     1                   0   \n",
              "4         9.9820             1020.88     1                   0   \n",
              "\n",
              "   Description_Warm  \n",
              "0                 0  \n",
              "1                 1  \n",
              "2                 0  \n",
              "3                 0  \n",
              "4                 0  "
            ],
            "text/html": [
              "\n",
              "  <div id=\"df-c4af6ce5-9bf5-400f-b20a-058be4a0f9b1\">\n",
              "    <div class=\"colab-df-container\">\n",
              "      <div>\n",
              "<style scoped>\n",
              "    .dataframe tbody tr th:only-of-type {\n",
              "        vertical-align: middle;\n",
              "    }\n",
              "\n",
              "    .dataframe tbody tr th {\n",
              "        vertical-align: top;\n",
              "    }\n",
              "\n",
              "    .dataframe thead th {\n",
              "        text-align: right;\n",
              "    }\n",
              "</style>\n",
              "<table border=\"1\" class=\"dataframe\">\n",
              "  <thead>\n",
              "    <tr style=\"text-align: right;\">\n",
              "      <th></th>\n",
              "      <th>Temperature_c</th>\n",
              "      <th>Humidity</th>\n",
              "      <th>Wind_Speed_kmh</th>\n",
              "      <th>Wind_Bearing_degrees</th>\n",
              "      <th>Visibility_km</th>\n",
              "      <th>Pressure_millibars</th>\n",
              "      <th>Rain</th>\n",
              "      <th>Description_Normal</th>\n",
              "      <th>Description_Warm</th>\n",
              "    </tr>\n",
              "  </thead>\n",
              "  <tbody>\n",
              "    <tr>\n",
              "      <th>0</th>\n",
              "      <td>-0.555556</td>\n",
              "      <td>0.92</td>\n",
              "      <td>11.2700</td>\n",
              "      <td>130</td>\n",
              "      <td>8.0500</td>\n",
              "      <td>1021.60</td>\n",
              "      <td>0</td>\n",
              "      <td>0</td>\n",
              "      <td>0</td>\n",
              "    </tr>\n",
              "    <tr>\n",
              "      <th>1</th>\n",
              "      <td>21.111111</td>\n",
              "      <td>0.73</td>\n",
              "      <td>20.9300</td>\n",
              "      <td>330</td>\n",
              "      <td>16.1000</td>\n",
              "      <td>1017.00</td>\n",
              "      <td>1</td>\n",
              "      <td>0</td>\n",
              "      <td>1</td>\n",
              "    </tr>\n",
              "    <tr>\n",
              "      <th>2</th>\n",
              "      <td>16.600000</td>\n",
              "      <td>0.97</td>\n",
              "      <td>5.9731</td>\n",
              "      <td>193</td>\n",
              "      <td>14.9086</td>\n",
              "      <td>1013.99</td>\n",
              "      <td>1</td>\n",
              "      <td>1</td>\n",
              "      <td>0</td>\n",
              "    </tr>\n",
              "    <tr>\n",
              "      <th>3</th>\n",
              "      <td>1.600000</td>\n",
              "      <td>0.82</td>\n",
              "      <td>3.2200</td>\n",
              "      <td>300</td>\n",
              "      <td>16.1000</td>\n",
              "      <td>1031.59</td>\n",
              "      <td>1</td>\n",
              "      <td>0</td>\n",
              "      <td>0</td>\n",
              "    </tr>\n",
              "    <tr>\n",
              "      <th>4</th>\n",
              "      <td>2.194444</td>\n",
              "      <td>0.60</td>\n",
              "      <td>10.8836</td>\n",
              "      <td>116</td>\n",
              "      <td>9.9820</td>\n",
              "      <td>1020.88</td>\n",
              "      <td>1</td>\n",
              "      <td>0</td>\n",
              "      <td>0</td>\n",
              "    </tr>\n",
              "  </tbody>\n",
              "</table>\n",
              "</div>\n",
              "      <button class=\"colab-df-convert\" onclick=\"convertToInteractive('df-c4af6ce5-9bf5-400f-b20a-058be4a0f9b1')\"\n",
              "              title=\"Convert this dataframe to an interactive table.\"\n",
              "              style=\"display:none;\">\n",
              "        \n",
              "  <svg xmlns=\"http://www.w3.org/2000/svg\" height=\"24px\"viewBox=\"0 0 24 24\"\n",
              "       width=\"24px\">\n",
              "    <path d=\"M0 0h24v24H0V0z\" fill=\"none\"/>\n",
              "    <path d=\"M18.56 5.44l.94 2.06.94-2.06 2.06-.94-2.06-.94-.94-2.06-.94 2.06-2.06.94zm-11 1L8.5 8.5l.94-2.06 2.06-.94-2.06-.94L8.5 2.5l-.94 2.06-2.06.94zm10 10l.94 2.06.94-2.06 2.06-.94-2.06-.94-.94-2.06-.94 2.06-2.06.94z\"/><path d=\"M17.41 7.96l-1.37-1.37c-.4-.4-.92-.59-1.43-.59-.52 0-1.04.2-1.43.59L10.3 9.45l-7.72 7.72c-.78.78-.78 2.05 0 2.83L4 21.41c.39.39.9.59 1.41.59.51 0 1.02-.2 1.41-.59l7.78-7.78 2.81-2.81c.8-.78.8-2.07 0-2.86zM5.41 20L4 18.59l7.72-7.72 1.47 1.35L5.41 20z\"/>\n",
              "  </svg>\n",
              "      </button>\n",
              "      \n",
              "  <style>\n",
              "    .colab-df-container {\n",
              "      display:flex;\n",
              "      flex-wrap:wrap;\n",
              "      gap: 12px;\n",
              "    }\n",
              "\n",
              "    .colab-df-convert {\n",
              "      background-color: #E8F0FE;\n",
              "      border: none;\n",
              "      border-radius: 50%;\n",
              "      cursor: pointer;\n",
              "      display: none;\n",
              "      fill: #1967D2;\n",
              "      height: 32px;\n",
              "      padding: 0 0 0 0;\n",
              "      width: 32px;\n",
              "    }\n",
              "\n",
              "    .colab-df-convert:hover {\n",
              "      background-color: #E2EBFA;\n",
              "      box-shadow: 0px 1px 2px rgba(60, 64, 67, 0.3), 0px 1px 3px 1px rgba(60, 64, 67, 0.15);\n",
              "      fill: #174EA6;\n",
              "    }\n",
              "\n",
              "    [theme=dark] .colab-df-convert {\n",
              "      background-color: #3B4455;\n",
              "      fill: #D2E3FC;\n",
              "    }\n",
              "\n",
              "    [theme=dark] .colab-df-convert:hover {\n",
              "      background-color: #434B5C;\n",
              "      box-shadow: 0px 1px 3px 1px rgba(0, 0, 0, 0.15);\n",
              "      filter: drop-shadow(0px 1px 2px rgba(0, 0, 0, 0.3));\n",
              "      fill: #FFFFFF;\n",
              "    }\n",
              "  </style>\n",
              "\n",
              "      <script>\n",
              "        const buttonEl =\n",
              "          document.querySelector('#df-c4af6ce5-9bf5-400f-b20a-058be4a0f9b1 button.colab-df-convert');\n",
              "        buttonEl.style.display =\n",
              "          google.colab.kernel.accessAllowed ? 'block' : 'none';\n",
              "\n",
              "        async function convertToInteractive(key) {\n",
              "          const element = document.querySelector('#df-c4af6ce5-9bf5-400f-b20a-058be4a0f9b1');\n",
              "          const dataTable =\n",
              "            await google.colab.kernel.invokeFunction('convertToInteractive',\n",
              "                                                     [key], {});\n",
              "          if (!dataTable) return;\n",
              "\n",
              "          const docLinkHtml = 'Like what you see? Visit the ' +\n",
              "            '<a target=\"_blank\" href=https://colab.research.google.com/notebooks/data_table.ipynb>data table notebook</a>'\n",
              "            + ' to learn more about interactive tables.';\n",
              "          element.innerHTML = '';\n",
              "          dataTable['output_type'] = 'display_data';\n",
              "          await google.colab.output.renderOutput(dataTable, element);\n",
              "          const docLink = document.createElement('div');\n",
              "          docLink.innerHTML = docLinkHtml;\n",
              "          element.appendChild(docLink);\n",
              "        }\n",
              "      </script>\n",
              "    </div>\n",
              "  </div>\n",
              "  "
            ]
          },
          "metadata": {},
          "execution_count": 22
        }
      ]
    },
    {
      "cell_type": "code",
      "source": [
        "import matplotlib.pyplot as plt\n",
        "from scipy.stats import pearsonr\n",
        "\n",
        "cor = pearsonr(df_dummies['Temperature_c'], df_dummies['Humidity'])\n",
        "plt.scatter(data=df_dummies, x='Temperature_c', y = 'Humidity')\n",
        "plt.xlabel('Temperature in Celcius')\n",
        "plt.ylabel('Humidity')\n",
        "plt.title('r = {0:0.2f}'.format(cor[0]))"
      ],
      "metadata": {
        "colab": {
          "base_uri": "https://localhost:8080/",
          "height": 312
        },
        "id": "qNqm5pFNl3qT",
        "outputId": "0b7ad816-f40e-468c-d073-290dd91d3b3f"
      },
      "execution_count": 61,
      "outputs": [
        {
          "output_type": "execute_result",
          "data": {
            "text/plain": [
              "Text(0.5, 1.0, 'r = -0.63')"
            ]
          },
          "metadata": {},
          "execution_count": 61
        },
        {
          "output_type": "display_data",
          "data": {
            "text/plain": [
              "<Figure size 432x288 with 1 Axes>"
            ],
            "image/png": "[encoded data removed]"
          },
          "metadata": {
            "needs_background": "light"
          }
        }
      ]
    },
    {
      "cell_type": "markdown",
      "source": [
        "To remove any possible order effects in the data, it is good practice to first shuffle \n",
        "the rows of the data prior to splitting the data into features (X) and outcome (y). To \n",
        "shuffle the rows in df_dummies, refer to the code here:"
      ],
      "metadata": {
        "id": "pfF3At5pb4_P"
      }
    },
    {
      "cell_type": "code",
      "source": [
        "from sklearn.utils import shuffle\n",
        "\n",
        "df_shuffled = shuffle(df_dummies, random_state = 42)"
      ],
      "metadata": {
        "id": "cT2bCv22b5wI"
      },
      "execution_count": 23,
      "outputs": []
    },
    {
      "cell_type": "code",
      "source": [
        "#Spliting the rows into features(x) and the dependent variable y\n",
        "DV = 'Temperature_c'\n",
        "X = df_shuffled.drop(DV, axis=1)\n",
        "y = df_shuffled[DV]"
      ],
      "metadata": {
        "id": "YXJEaVv8cMMm"
      },
      "execution_count": 27,
      "outputs": []
    },
    {
      "cell_type": "code",
      "source": [
        "#Split X and y into testing and training dat.\n",
        "from sklearn.model_selection import train_test_split\n",
        "\n",
        "X_train, X_test, y_train, y_test = train_test_split(X,y, test_size = 0.33, random_state=42)"
      ],
      "metadata": {
        "id": "nh7KmYQncZnw"
      },
      "execution_count": 32,
      "outputs": []
    },
    {
      "cell_type": "code",
      "source": [
        "X_train.head()"
      ],
      "metadata": {
        "colab": {
          "base_uri": "https://localhost:8080/",
          "height": 206
        },
        "id": "esw872fMeEFQ",
        "outputId": "6726ac18-5373-4e11-9b0f-37ba12ef07f0"
      },
      "execution_count": 33,
      "outputs": [
        {
          "output_type": "execute_result",
          "data": {
            "text/plain": [
              "      Humidity  Wind_Speed_kmh  Wind_Bearing_degrees  Visibility_km  \\\n",
              "5757      0.76          8.4525                    38        14.9569   \n",
              "7510      0.85         12.8800                   150         8.0500   \n",
              "55        0.47          8.0339                   267        10.3523   \n",
              "1983      0.28         20.8978                   300        10.3684   \n",
              "1842      1.00          6.2629                   329         0.2254   \n",
              "\n",
              "      Pressure_millibars  Rain  Description_Normal  Description_Warm  \n",
              "5757             1028.63     1                   1                 0  \n",
              "7510             1021.90     0                   0                 0  \n",
              "55               1015.50     1                   0                 1  \n",
              "1983             1008.00     1                   1                 0  \n",
              "1842             1028.13     0                   0                 0  "
            ],
            "text/html": [
              "\n",
              "  <div id=\"df-7d08e256-cfaf-4bd1-9eb5-eb6aa1fc5bb3\">\n",
              "    <div class=\"colab-df-container\">\n",
              "      <div>\n",
              "<style scoped>\n",
              "    .dataframe tbody tr th:only-of-type {\n",
              "        vertical-align: middle;\n",
              "    }\n",
              "\n",
              "    .dataframe tbody tr th {\n",
              "        vertical-align: top;\n",
              "    }\n",
              "\n",
              "    .dataframe thead th {\n",
              "        text-align: right;\n",
              "    }\n",
              "</style>\n",
              "<table border=\"1\" class=\"dataframe\">\n",
              "  <thead>\n",
              "    <tr style=\"text-align: right;\">\n",
              "      <th></th>\n",
              "      <th>Humidity</th>\n",
              "      <th>Wind_Speed_kmh</th>\n",
              "      <th>Wind_Bearing_degrees</th>\n",
              "      <th>Visibility_km</th>\n",
              "      <th>Pressure_millibars</th>\n",
              "      <th>Rain</th>\n",
              "      <th>Description_Normal</th>\n",
              "      <th>Description_Warm</th>\n",
              "    </tr>\n",
              "  </thead>\n",
              "  <tbody>\n",
              "    <tr>\n",
              "      <th>5757</th>\n",
              "      <td>0.76</td>\n",
              "      <td>8.4525</td>\n",
              "      <td>38</td>\n",
              "      <td>14.9569</td>\n",
              "      <td>1028.63</td>\n",
              "      <td>1</td>\n",
              "      <td>1</td>\n",
              "      <td>0</td>\n",
              "    </tr>\n",
              "    <tr>\n",
              "      <th>7510</th>\n",
              "      <td>0.85</td>\n",
              "      <td>12.8800</td>\n",
              "      <td>150</td>\n",
              "      <td>8.0500</td>\n",
              "      <td>1021.90</td>\n",
              "      <td>0</td>\n",
              "      <td>0</td>\n",
              "      <td>0</td>\n",
              "    </tr>\n",
              "    <tr>\n",
              "      <th>55</th>\n",
              "      <td>0.47</td>\n",
              "      <td>8.0339</td>\n",
              "      <td>267</td>\n",
              "      <td>10.3523</td>\n",
              "      <td>1015.50</td>\n",
              "      <td>1</td>\n",
              "      <td>0</td>\n",
              "      <td>1</td>\n",
              "    </tr>\n",
              "    <tr>\n",
              "      <th>1983</th>\n",
              "      <td>0.28</td>\n",
              "      <td>20.8978</td>\n",
              "      <td>300</td>\n",
              "      <td>10.3684</td>\n",
              "      <td>1008.00</td>\n",
              "      <td>1</td>\n",
              "      <td>1</td>\n",
              "      <td>0</td>\n",
              "    </tr>\n",
              "    <tr>\n",
              "      <th>1842</th>\n",
              "      <td>1.00</td>\n",
              "      <td>6.2629</td>\n",
              "      <td>329</td>\n",
              "      <td>0.2254</td>\n",
              "      <td>1028.13</td>\n",
              "      <td>0</td>\n",
              "      <td>0</td>\n",
              "      <td>0</td>\n",
              "    </tr>\n",
              "  </tbody>\n",
              "</table>\n",
              "</div>\n",
              "      <button class=\"colab-df-convert\" onclick=\"convertToInteractive('df-7d08e256-cfaf-4bd1-9eb5-eb6aa1fc5bb3')\"\n",
              "              title=\"Convert this dataframe to an interactive table.\"\n",
              "              style=\"display:none;\">\n",
              "        \n",
              "  <svg xmlns=\"http://www.w3.org/2000/svg\" height=\"24px\"viewBox=\"0 0 24 24\"\n",
              "       width=\"24px\">\n",
              "    <path d=\"M0 0h24v24H0V0z\" fill=\"none\"/>\n",
              "    <path d=\"M18.56 5.44l.94 2.06.94-2.06 2.06-.94-2.06-.94-.94-2.06-.94 2.06-2.06.94zm-11 1L8.5 8.5l.94-2.06 2.06-.94-2.06-.94L8.5 2.5l-.94 2.06-2.06.94zm10 10l.94 2.06.94-2.06 2.06-.94-2.06-.94-.94-2.06-.94 2.06-2.06.94z\"/><path d=\"M17.41 7.96l-1.37-1.37c-.4-.4-.92-.59-1.43-.59-.52 0-1.04.2-1.43.59L10.3 9.45l-7.72 7.72c-.78.78-.78 2.05 0 2.83L4 21.41c.39.39.9.59 1.41.59.51 0 1.02-.2 1.41-.59l7.78-7.78 2.81-2.81c.8-.78.8-2.07 0-2.86zM5.41 20L4 18.59l7.72-7.72 1.47 1.35L5.41 20z\"/>\n",
              "  </svg>\n",
              "      </button>\n",
              "      \n",
              "  <style>\n",
              "    .colab-df-container {\n",
              "      display:flex;\n",
              "      flex-wrap:wrap;\n",
              "      gap: 12px;\n",
              "    }\n",
              "\n",
              "    .colab-df-convert {\n",
              "      background-color: #E8F0FE;\n",
              "      border: none;\n",
              "      border-radius: 50%;\n",
              "      cursor: pointer;\n",
              "      display: none;\n",
              "      fill: #1967D2;\n",
              "      height: 32px;\n",
              "      padding: 0 0 0 0;\n",
              "      width: 32px;\n",
              "    }\n",
              "\n",
              "    .colab-df-convert:hover {\n",
              "      background-color: #E2EBFA;\n",
              "      box-shadow: 0px 1px 2px rgba(60, 64, 67, 0.3), 0px 1px 3px 1px rgba(60, 64, 67, 0.15);\n",
              "      fill: #174EA6;\n",
              "    }\n",
              "\n",
              "    [theme=dark] .colab-df-convert {\n",
              "      background-color: #3B4455;\n",
              "      fill: #D2E3FC;\n",
              "    }\n",
              "\n",
              "    [theme=dark] .colab-df-convert:hover {\n",
              "      background-color: #434B5C;\n",
              "      box-shadow: 0px 1px 3px 1px rgba(0, 0, 0, 0.15);\n",
              "      filter: drop-shadow(0px 1px 2px rgba(0, 0, 0, 0.3));\n",
              "      fill: #FFFFFF;\n",
              "    }\n",
              "  </style>\n",
              "\n",
              "      <script>\n",
              "        const buttonEl =\n",
              "          document.querySelector('#df-7d08e256-cfaf-4bd1-9eb5-eb6aa1fc5bb3 button.colab-df-convert');\n",
              "        buttonEl.style.display =\n",
              "          google.colab.kernel.accessAllowed ? 'block' : 'none';\n",
              "\n",
              "        async function convertToInteractive(key) {\n",
              "          const element = document.querySelector('#df-7d08e256-cfaf-4bd1-9eb5-eb6aa1fc5bb3');\n",
              "          const dataTable =\n",
              "            await google.colab.kernel.invokeFunction('convertToInteractive',\n",
              "                                                     [key], {});\n",
              "          if (!dataTable) return;\n",
              "\n",
              "          const docLinkHtml = 'Like what you see? Visit the ' +\n",
              "            '<a target=\"_blank\" href=https://colab.research.google.com/notebooks/data_table.ipynb>data table notebook</a>'\n",
              "            + ' to learn more about interactive tables.';\n",
              "          element.innerHTML = '';\n",
              "          dataTable['output_type'] = 'display_data';\n",
              "          await google.colab.output.renderOutput(dataTable, element);\n",
              "          const docLink = document.createElement('div');\n",
              "          docLink.innerHTML = docLinkHtml;\n",
              "          element.appendChild(docLink);\n",
              "        }\n",
              "      </script>\n",
              "    </div>\n",
              "  </div>\n",
              "  "
            ]
          },
          "metadata": {},
          "execution_count": 33
        }
      ]
    },
    {
      "cell_type": "markdown",
      "source": [
        "#Exercise 22: Fitting a Simple Linear Regression Model and Determining the  Intercept and Coefficient\n",
        "\n",
        "Continuing from Exercise 21."
      ],
      "metadata": {
        "id": "OmkiwOuseP2P"
      }
    },
    {
      "cell_type": "code",
      "source": [
        "#Instantiate a linear regression model\n",
        "from sklearn.linear_model import LinearRegression\n",
        "\n",
        "model = LinearRegression()"
      ],
      "metadata": {
        "id": "TjDgJ2T0eYBb"
      },
      "execution_count": 36,
      "outputs": []
    },
    {
      "cell_type": "code",
      "source": [
        "#Fitting the model to the Humidity column\n",
        "model.fit(X_train[['Humidity']], y_train)"
      ],
      "metadata": {
        "colab": {
          "base_uri": "https://localhost:8080/"
        },
        "id": "AKoBshHXeoFh",
        "outputId": "dfac5a13-7b7f-4b33-8434-dfef9df0dde6"
      },
      "execution_count": 37,
      "outputs": [
        {
          "output_type": "execute_result",
          "data": {
            "text/plain": [
              "LinearRegression()"
            ]
          },
          "metadata": {},
          "execution_count": 37
        }
      ]
    },
    {
      "cell_type": "code",
      "source": [
        "#Extracting the value for the intercept\n",
        "intercep = model.intercept_"
      ],
      "metadata": {
        "id": "CteCWV6GfFje"
      },
      "execution_count": 38,
      "outputs": []
    },
    {
      "cell_type": "code",
      "source": [
        "#Extracting the coefficients values\n",
        "coefficient = model.coef_"
      ],
      "metadata": {
        "id": "gxdECGJrfNBG"
      },
      "execution_count": 42,
      "outputs": []
    },
    {
      "cell_type": "code",
      "source": [
        "#Printing a message with the formula for predicting temperature in Celsius\n",
        "print('Temperature = {0:0.2f} + ({1:0.2f}x Humidity)'.format(intercep, coefficient[0]))"
      ],
      "metadata": {
        "colab": {
          "base_uri": "https://localhost:8080/"
        },
        "id": "yud1KBjGfVRC",
        "outputId": "176ea857-64da-4af8-905e-42e579e3527e"
      },
      "execution_count": 43,
      "outputs": [
        {
          "output_type": "stream",
          "name": "stdout",
          "text": [
            "Temperature = 34.50 + (-30.69x Humidity)\n"
          ]
        }
      ]
    },
    {
      "cell_type": "markdown",
      "source": [
        "a day with a 0.78 humidity value has a predicted a temperature of 10.56 degrees Celsius."
      ],
      "metadata": {
        "id": "yxy0cqmNgN6E"
      }
    },
    {
      "cell_type": "markdown",
      "source": [
        "# Exercise 23: Generating Predictions and Evaluating the Performance of a  Simple Linear Regression Model\n",
        "Continuing from Exercise 22"
      ],
      "metadata": {
        "id": "-QHESzFohFeY"
      }
    },
    {
      "cell_type": "code",
      "source": [
        "#Generating predictions on the dest data\n",
        "predictions = model.predict(X_test[['Humidity']])"
      ],
      "metadata": {
        "id": "DUaRriLshJwz"
      },
      "execution_count": 47,
      "outputs": []
    },
    {
      "cell_type": "markdown",
      "source": [
        "A common way to evaluate model performance is to examine the correlation \n",
        "between the predicted and actual values using a scatterplot. The scatterplot \n",
        "displays the relationship between the actual and predicted values. A perfect \n",
        "regression model will display a straight, diagonal line between predicted and actual \n",
        "values. The relationship between the predicted and actual values can be quantified \n",
        "using the Pearson r correlation coefficient. "
      ],
      "metadata": {
        "id": "Sj6G5x1whubv"
      }
    },
    {
      "cell_type": "code",
      "source": [
        "import matplotlib.pyplot as plt\n",
        "from scipy.stats import pearsonr\n",
        "\n",
        "plt.scatter(y_test, predictions)\n",
        "plt.xlabel('Y Test (True Values)')\n",
        "plt.ylabel('Predicted Values')\n",
        "plt.title('Predicted vs. Actual Values (r = {0:0.2f})'.format(pearsonr(y_test, predictions)[0], 2))\n",
        "plt.show()"
      ],
      "metadata": {
        "colab": {
          "base_uri": "https://localhost:8080/",
          "height": 295
        },
        "id": "N0_7fG68hx56",
        "outputId": "ef6d899e-c786-4677-da52-02cdeae97f7f"
      },
      "execution_count": 51,
      "outputs": [
        {
          "output_type": "display_data",
          "data": {
            "text/plain": [
              "<Figure size 432x288 with 1 Axes>"
            ],
            "image/png": "[encoded data removed]"
          },
          "metadata": {
            "needs_background": "light"
          }
        }
      ]
    },
    {
      "cell_type": "markdown",
      "source": [
        "A model that fits the data very well will have normally distributed residuals. To \n",
        "create a density plot of the residuals"
      ],
      "metadata": {
        "id": "7qRCglgUnTih"
      }
    },
    {
      "cell_type": "code",
      "source": [
        "import seaborn as sns\n",
        "from scipy.stats import shapiro\n",
        "sns.distplot((y_test - predictions), bins = 50)\n",
        "plt.xlabel('Residuals')\n",
        "plt.ylabel('Density')\n",
        "plt.title('Histogram of Residuals (Shapiro W p-value = {0:0.3f})'.format(shapiro(y_test - predictions)[1]))\n",
        "plt.show()"
      ],
      "metadata": {
        "colab": {
          "base_uri": "https://localhost:8080/",
          "height": 350
        },
        "id": "a_gGIGtclxsZ",
        "outputId": "4b2d542f-e378-42e1-d1bd-8169f62dddb5"
      },
      "execution_count": 67,
      "outputs": [
        {
          "output_type": "stream",
          "name": "stderr",
          "text": [
            "/usr/local/lib/python3.7/dist-packages/seaborn/distributions.py:2619: FutureWarning: `distplot` is a deprecated function and will be removed in a future version. Please adapt your code to use either `displot` (a figure-level function with similar flexibility) or `histplot` (an axes-level function for histograms).\n",
            "  warnings.warn(msg, FutureWarning)\n"
          ]
        },
        {
          "output_type": "display_data",
          "data": {
            "text/plain": [
              "<Figure size 432x288 with 1 Axes>"
            ],
            "image/png": "[encoded data removed]"
          },
          "metadata": {
            "needs_background": "light"
          }
        }
      ]
    },
    {
      "cell_type": "markdown",
      "source": [
        "The histogram shows us that the residuals are negatively skewed and the value of \n",
        "the Shapiro W p-value in the title tells us that the distribution is not normal. This \n",
        "gives us further evidence that our model has room for improvement.\n",
        "\n",
        "Lastly, we will compute metrics for mean absolute error, mean squared error, root  mean squared error, and R-squared, and put them into a DataFrame "
      ],
      "metadata": {
        "id": "RkwAbS7ioKz1"
      }
    },
    {
      "cell_type": "code",
      "source": [
        "from sklearn import metrics\n",
        "import numpy as np\n",
        "\n",
        "metrics_df = pd.DataFrame({'Metric': ['MAE','MSE', 'RMSE', 'R-Squared'],\n",
        "                           'Value': [metrics.mean_absolute_error(y_test, predictions),\n",
        "                                     metrics.mean_squared_error(y_test, predictions),\n",
        "                                     np.sqrt(metrics.mean_squared_error(y_test, predictions)),\n",
        "                                     metrics.explained_variance_score(y_test, predictions)]\n",
        "                                     })\n",
        "print(metrics_df)"
      ],
      "metadata": {
        "colab": {
          "base_uri": "https://localhost:8080/"
        },
        "id": "IBYehAjNoL_G",
        "outputId": "301744a2-9e1f-434f-e0fb-03b5c483df93"
      },
      "execution_count": 68,
      "outputs": [
        {
          "output_type": "stream",
          "name": "stdout",
          "text": [
            "      Metric      Value\n",
            "0        MAE   6.052198\n",
            "1        MSE  56.187416\n",
            "2       RMSE   7.495827\n",
            "3  R-Squared   0.389288\n"
          ]
        }
      ]
    },
    {
      "cell_type": "markdown",
      "source": [
        "* **Mean absolute error (MAE)**: is the average absolute difference between the predicted values and the actual values.\n",
        "* **Mean squared error (MSE)**: is the average of the squared differences between the predicted and actual values.\n",
        "* **Root mean squared error (RMSE)**:is the square root of the MSE.\n",
        "* **R-squared** tells us the proportion of variance in the dependent variable that can be explained by the model. \n",
        "\n",
        "Thus, in this simple linear \n",
        "regression model, humidity explained only 38.9% of the variance in temperature. \n",
        "Additionally, our predictions were within ± 6.052 degrees Celsius."
      ],
      "metadata": {
        "id": "NlKmOfsIqMxh"
      }
    }
  ]
}